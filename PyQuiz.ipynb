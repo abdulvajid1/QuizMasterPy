{
 "cells": [
  {
   "cell_type": "markdown",
   "id": "43287bba-c7e5-4919-9af2-094ad15bde34",
   "metadata": {},
   "source": [
    "# Quiz Maker"
   ]
  },
  {
   "cell_type": "code",
   "execution_count": 17,
   "id": "d7846b41-8715-48b0-bd76-4a2a3b44a96b",
   "metadata": {},
   "outputs": [
    {
     "name": "stdout",
     "output_type": "stream",
     "text": [
      "user Answer Paris\n",
      "Corroct answer Paris\n",
      "user Answer 4\n",
      "Corroct answer 4\n",
      "user Answer Earth\n",
      "Corroct answer Jupiter\n",
      "user Answer H2O\n",
      "Corroct answer H2O\n",
      "user Answer William Shakespeare\n",
      "Corroct answer William Shakespeare\n"
     ]
    }
   ],
   "source": [
    "import tkinter as tk\n",
    "import re\n",
    "\n",
    "with open('./quiz_questions.txt') as file:\n",
    "    files = file.read()\n",
    "class Quiz_Maker:\n",
    "    \n",
    "    def __init__(self):\n",
    "        self.score = 0\n",
    "        self.total_score = 5\n",
    "        self.current_question = 1\n",
    "        self.window = tk.Tk()\n",
    "        self.window.geometry('500x500')\n",
    "        self.window.configure(background='grey')\n",
    "        self.window.resizable(False, False)\n",
    "        self.question_label = None\n",
    "        self.option_buttons = []\n",
    "        \n",
    "    def read_question(self, quest_number):\n",
    "        question = re.findall(string=files, pattern=f\"{quest_number}\\).+\")[0]\n",
    "        return question\n",
    "    \n",
    "    def read_options(self, quest_number):\n",
    "        options = re.findall(string=files, pattern=f\"{quest_number}\\w\\)(.+)\")\n",
    "        return options\n",
    "    \n",
    "    def get_answer(self, quest_number):\n",
    "        return re.findall(string=files, pattern=f\"ans{quest_number}:(.+)\")[0]\n",
    "    \n",
    "    def display_window(self):\n",
    "        self.question_frame = tk.Frame(self.window, bg='grey', height=150, width=500)\n",
    "        self.question_frame.pack(side=tk.TOP)\n",
    "        self.options_frame = tk.Frame(self.window, bg='green', height=400, width=500,background='grey')\n",
    "        self.options_frame.pack(side=tk.BOTTOM)\n",
    "        self.next_question()\n",
    "        \n",
    "        self.window.mainloop()\n",
    "        \n",
    "    def next_question(self):\n",
    "        if self.current_question > self.total_score:\n",
    "            self.show_result()\n",
    "            return\n",
    "\n",
    "        question = self.read_question(self.current_question)\n",
    "        options = self.read_options(self.current_question)\n",
    "        correct_answer = self.get_answer(self.current_question)\n",
    "\n",
    "        if self.question_label:\n",
    "            self.question_label.config(text=question)\n",
    "        else:\n",
    "            self.question_label = tk.Label(self.question_frame, text=question, bg='grey', font=('Helvetica', 16))\n",
    "            self.question_label.pack(expand=True, pady=70)\n",
    "\n",
    "        for button in self.option_buttons:\n",
    "            button.destroy()\n",
    "\n",
    "        self.option_buttons = []\n",
    "        for i, option in enumerate(options):\n",
    "            button = tk.Button(self.options_frame, text=option, pady=20, padx=20, \n",
    "                               command=lambda o=option: self.check_answer(o, correct_answer),background='grey')\n",
    "            button.pack(expand=True, pady=10)\n",
    "            self.option_buttons.append(button)\n",
    "\n",
    "    def check_answer(self, selected_option, correct_answer):\n",
    "        print(\"user Answer\",selected_option.strip())\n",
    "        print(\"Corroct answer\",correct_answer.strip())\n",
    "        if selected_option.strip() == correct_answer.strip():\n",
    "            self.score += 1\n",
    "        self.current_question += 1\n",
    "        self.next_question()\n",
    "\n",
    "    def show_result(self):\n",
    "        for widget in self.window.winfo_children():\n",
    "            widget.destroy()\n",
    "        result_label = tk.Label(self.window, text=f\"Quiz completed!\\nYour score: {self.score}/{self.total_score}\", \n",
    "                                bg='grey', font=('Helvetica', 20))\n",
    "        result_label.pack(expand=True)\n",
    "\n",
    "q = Quiz_Maker()\n",
    "q.display_window()"
   ]
  }
 ],
 "metadata": {
  "kernelspec": {
   "display_name": "Python 3 (ipykernel)",
   "language": "python",
   "name": "python3"
  },
  "language_info": {
   "codemirror_mode": {
    "name": "ipython",
    "version": 3
   },
   "file_extension": ".py",
   "mimetype": "text/x-python",
   "name": "python",
   "nbconvert_exporter": "python",
   "pygments_lexer": "ipython3",
   "version": "3.11.5"
  }
 },
 "nbformat": 4,
 "nbformat_minor": 5
}
